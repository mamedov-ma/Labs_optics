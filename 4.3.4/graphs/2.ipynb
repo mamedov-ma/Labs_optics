{
 "cells": [
  {
   "cell_type": "code",
   "execution_count": 2,
   "metadata": {},
   "outputs": [],
   "source": [
    "import pandas as pd\n",
    "import numpy as np\n",
    "import matplotlib.pyplot as plt\n",
    "plt.rcParams.update({'font.size': 22})\n",
    "import math"
   ]
  },
  {
   "cell_type": "code",
   "execution_count": 3,
   "metadata": {},
   "outputs": [],
   "source": [
    "name = \"g2\"\n",
    "plt.rcParams.update({'font.size': 22})"
   ]
  },
  {
   "cell_type": "code",
   "execution_count": 4,
   "metadata": {},
   "outputs": [],
   "source": [
    "data = pd.read_csv(name + \".csv\", names=[\"y\", \"d\"])"
   ]
  },
  {
   "cell_type": "code",
   "execution_count": 59,
   "metadata": {},
   "outputs": [],
   "source": [
    "X = 1 / data[\"d\"].values\n",
    "sigma_X = 0.0003\n",
    "Y = data[\"y\"].values\n",
    "sigma_Y = 0.04"
   ]
  },
  {
   "cell_type": "code",
   "execution_count": 60,
   "metadata": {},
   "outputs": [],
   "source": [
    "A = np.vstack([X, np.ones(len(X))]).T\n",
    "k, b = np.linalg.lstsq(A, Y, rcond=None)[0]\n",
    "#sigma_k = math.sqrt((Y.std() - Y.mean()**2 ) / (X.std() - X.mean()**2 ) - b**2 ) / math.sqrt(len(X))\n",
    "#eps_k = sigma_k / k\n",
    "#sigma_b = sigma_k * math.sqrt(X.std() / X.mean() - X.mean()**2 )"
   ]
  },
  {
   "cell_type": "code",
   "execution_count": 61,
   "metadata": {},
   "outputs": [
    {
     "data": {
      "image/png": "[encoded data removed]",
      "text/plain": [
       "<Figure size 864x504 with 1 Axes>"
      ]
     },
     "metadata": {
      "needs_background": "light"
     },
     "output_type": "display_data"
    }
   ],
   "source": [
    "import pylab\n",
    "fig = plt.figure(figsize=(12, 7))\n",
    "ax = fig.gca()\n",
    "plt.scatter(X, Y, marker=\".\")\n",
    "delta_x = (X.max() - X.min()) / len(X)\n",
    "delta_y = (Y.max() - Y.min()) / len(Y)\n",
    "plt.errorbar(X, Y, xerr=sigma_X, yerr=sigma_Y, linestyle=\"None\")\n",
    "ax.set_xlim(X.min() - delta_x/2, X.max() + delta_x/2 )\n",
    "ax.set_ylim((Y.min() - delta_y/2 ), Y.max() + delta_y/2 )\n",
    "pylab.xticks([0, 0.005, 0.01, 0.015, 0.02])\n",
    "plt.xlabel(\"$1 / d_c$\")\n",
    "plt.ylabel(\"$\\Delta y, мм$\")\n",
    "plt.plot(X, (k*X + b), 'r', label='Fitted line')\n",
    "plt.grid(True)\n",
    "plt.savefig(\"../\" + name + \".png\")"
   ]
  },
  {
   "cell_type": "code",
   "execution_count": 45,
   "metadata": {},
   "outputs": [
    {
     "data": {
      "text/plain": [
       "0.0507556246166712"
      ]
     },
     "execution_count": 45,
     "metadata": {},
     "output_type": "execute_result"
    }
   ],
   "source": [
    "k"
   ]
  },
  {
   "cell_type": "code",
   "execution_count": 46,
   "metadata": {
    "scrolled": true
   },
   "outputs": [
    {
     "data": {
      "text/plain": [
       "2.120906507742444"
      ]
     },
     "execution_count": 46,
     "metadata": {},
     "output_type": "execute_result"
    }
   ],
   "source": [
    "b"
   ]
  },
  {
   "cell_type": "code",
   "execution_count": 9,
   "metadata": {},
   "outputs": [
    {
     "ename": "NameError",
     "evalue": "name 'data' is not defined",
     "output_type": "error",
     "traceback": [
      "\u001b[0;31m---------------------------------------------------------------------------\u001b[0m",
      "\u001b[0;31mNameError\u001b[0m                                 Traceback (most recent call last)",
      "\u001b[0;32m<ipython-input-9-c5d84736ba45>\u001b[0m in \u001b[0;36m<module>\u001b[0;34m\u001b[0m\n\u001b[0;32m----> 1\u001b[0;31m \u001b[0mdata\u001b[0m\u001b[0;34m\u001b[0m\u001b[0m\n\u001b[0m",
      "\u001b[0;31mNameError\u001b[0m: name 'data' is not defined"
     ]
    }
   ],
   "source": [
    "data"
   ]
  },
  {
   "cell_type": "code",
   "execution_count": 68,
   "metadata": {},
   "outputs": [
    {
     "name": "stdout",
     "output_type": "stream",
     "text": [
      "\\begin{tabular}{lrr}\n",
      "\\toprule\n",
      "{} &    U &       f \\\\\n",
      "\\midrule\n",
      "0  &  500 &  19.044 \\\\\n",
      "1  &  550 &  19.148 \\\\\n",
      "2  &  600 &  19.240 \\\\\n",
      "3  &  650 &  19.329 \\\\\n",
      "4  &  700 &  19.414 \\\\\n",
      "5  &  750 &  19.504 \\\\\n",
      "6  &  800 &  19.616 \\\\\n",
      "7  &  831 &  19.751 \\\\\n",
      "8  &  800 &  19.890 \\\\\n",
      "9  &  750 &  19.993 \\\\\n",
      "10 &  700 &  20.086 \\\\\n",
      "11 &  650 &  20.157 \\\\\n",
      "12 &  600 &  20.249 \\\\\n",
      "13 &  550 &  20.324 \\\\\n",
      "14 &  500 &  20.403 \\\\\n",
      "\\bottomrule\n",
      "\\end{tabular}\n",
      "\n"
     ]
    }
   ],
   "source": [
    "print(data2.to_latex())"
   ]
  },
  {
   "cell_type": "code",
   "execution_count": 10,
   "metadata": {},
   "outputs": [
    {
     "data": {
      "text/plain": [
       "61.5"
      ]
     },
     "execution_count": 10,
     "metadata": {},
     "output_type": "execute_result"
    }
   ],
   "source": [
    "data[\"d\"].mean()"
   ]
  },
  {
   "cell_type": "code",
   "execution_count": null,
   "metadata": {},
   "outputs": [],
   "source": []
  }
 ],
 "metadata": {
  "kernelspec": {
   "display_name": "Python 3",
   "language": "python",
   "name": "python3"
  },
  "language_info": {
   "codemirror_mode": {
    "name": "ipython",
    "version": 3
   },
   "file_extension": ".py",
   "mimetype": "text/x-python",
   "name": "python",
   "nbconvert_exporter": "python",
   "pygments_lexer": "ipython3",
   "version": "3.5.2"
  }
 },
 "nbformat": 4,
 "nbformat_minor": 2
}
