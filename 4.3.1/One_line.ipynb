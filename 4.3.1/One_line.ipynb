{
 "cells": [
  {
   "cell_type": "code",
   "execution_count": 1,
   "metadata": {
    "collapsed": true
   },
   "outputs": [],
   "source": [
    "filename = \"data.csv\"\n",
    "units  = r\"мм\"\n",
    "\n",
    "xlabel = r'$x_m, \\;$ мм'\n",
    "ylabel = r'$m$'"
   ]
  },
  {
   "cell_type": "code",
   "execution_count": 6,
   "metadata": {},
   "outputs": [],
   "source": [
    "import numpy as np\n",
    "import pandas as pd\n",
    "import sympy as sp\n",
    "import statsmodels.api as sm\n",
    "import math\n",
    "\n",
    "\n",
    "# Load data\n",
    "data = pd.read_csv(filename, engine='python', sep = ',', header=None)"
   ]
  },
  {
   "cell_type": "code",
   "execution_count": 7,
   "metadata": {},
   "outputs": [
    {
     "data": {
      "text/html": [
       "<div>\n",
       "<table border=\"1\" class=\"dataframe\">\n",
       "  <thead>\n",
       "    <tr style=\"text-align: right;\">\n",
       "      <th></th>\n",
       "      <th>0</th>\n",
       "      <th>1</th>\n",
       "    </tr>\n",
       "  </thead>\n",
       "  <tbody>\n",
       "    <tr>\n",
       "      <th>0</th>\n",
       "      <td>-4</td>\n",
       "      <td>0.62</td>\n",
       "    </tr>\n",
       "    <tr>\n",
       "      <th>1</th>\n",
       "      <td>-3</td>\n",
       "      <td>0.85</td>\n",
       "    </tr>\n",
       "    <tr>\n",
       "      <th>2</th>\n",
       "      <td>-2</td>\n",
       "      <td>1.03</td>\n",
       "    </tr>\n",
       "    <tr>\n",
       "      <th>3</th>\n",
       "      <td>-1</td>\n",
       "      <td>1.25</td>\n",
       "    </tr>\n",
       "    <tr>\n",
       "      <th>4</th>\n",
       "      <td>0</td>\n",
       "      <td>1.50</td>\n",
       "    </tr>\n",
       "    <tr>\n",
       "      <th>5</th>\n",
       "      <td>1</td>\n",
       "      <td>1.68</td>\n",
       "    </tr>\n",
       "    <tr>\n",
       "      <th>6</th>\n",
       "      <td>2</td>\n",
       "      <td>1.88</td>\n",
       "    </tr>\n",
       "    <tr>\n",
       "      <th>7</th>\n",
       "      <td>3</td>\n",
       "      <td>2.10</td>\n",
       "    </tr>\n",
       "    <tr>\n",
       "      <th>8</th>\n",
       "      <td>4</td>\n",
       "      <td>2.32</td>\n",
       "    </tr>\n",
       "  </tbody>\n",
       "</table>\n",
       "</div>"
      ],
      "text/plain": [
       "   0     1\n",
       "0 -4  0.62\n",
       "1 -3  0.85\n",
       "2 -2  1.03\n",
       "3 -1  1.25\n",
       "4  0  1.50\n",
       "5  1  1.68\n",
       "6  2  1.88\n",
       "7  3  2.10\n",
       "8  4  2.32"
      ]
     },
     "execution_count": 7,
     "metadata": {},
     "output_type": "execute_result"
    }
   ],
   "source": [
    "data"
   ]
  },
  {
   "cell_type": "code",
   "execution_count": 8,
   "metadata": {},
   "outputs": [],
   "source": [
    "# Exract arrays\n",
    "y = np.array(data[1])\n",
    "t = np.array(data[0])\n",
    "t = sm.add_constant(t, prepend=False)"
   ]
  },
  {
   "cell_type": "code",
   "execution_count": 9,
   "metadata": {},
   "outputs": [],
   "source": [
    "# Fitting\n",
    "model = sm.OLS(y,t)\n",
    "result = model.fit()\n",
    "\n",
    "# Saving parameters\n",
    "s_err, i_err = result.bse\n",
    "s, i = result.params"
   ]
  },
  {
   "cell_type": "code",
   "execution_count": 10,
   "metadata": {},
   "outputs": [
    {
     "name": "stderr",
     "output_type": "stream",
     "text": [
      "/Users/ri/anaconda3/lib/python3.6/site-packages/scipy/stats/stats.py:1334: UserWarning: kurtosistest only valid for n>=20 ... continuing anyway, n=9\n",
      "  \"anyway, n=%i\" % int(n))\n"
     ]
    },
    {
     "data": {
      "text/html": [
       "<table class=\"simpletable\">\n",
       "<tr>\n",
       "    <td></td>       <th>coef</th>     <th>std err</th>      <th>t</th>      <th>P>|t|</th>  <th>[0.025</th>    <th>0.975]</th>  \n",
       "</tr>\n",
       "<tr>\n",
       "  <th>x1</th>    <td>    0.2113</td> <td>    0.002</td> <td>  105.250</td> <td> 0.000</td> <td>    0.207</td> <td>    0.216</td>\n",
       "</tr>\n",
       "<tr>\n",
       "  <th>const</th> <td>    1.4700</td> <td>    0.005</td> <td>  283.541</td> <td> 0.000</td> <td>    1.458</td> <td>    1.482</td>\n",
       "</tr>\n",
       "</table>"
      ],
      "text/plain": [
       "<class 'statsmodels.iolib.table.SimpleTable'>"
      ]
     },
     "execution_count": 10,
     "metadata": {},
     "output_type": "execute_result"
    }
   ],
   "source": [
    "result.summary().tables[1]"
   ]
  },
  {
   "cell_type": "code",
   "execution_count": 20,
   "metadata": {},
   "outputs": [],
   "source": [
    "import matplotlib.pylab as plt\n",
    "from matplotlib import rc\n",
    "from matplotlib.ticker import AutoMinorLocator\n",
    "# Plot size\n",
    "plt.rcParams['figure.figsize'] = (8, 5)\n",
    "\n",
    "rc('text.latex', preamble=r\"\\usepackage[utf8]{inputenc}\")\n",
    "rc('text.latex', preamble=r\"\\usepackage[russian]{babel}\")\n",
    "rc('text.latex', preamble=r\"\\usepackage{lmodern}\")\n",
    "rc('text.latex', preamble=r\"\\usepackage[T2A]{fontenc}\")\n",
    "rc('text.latex', unicode=True)\n",
    "\n",
    "# Options\n",
    "params = {'text.usetex' : True,\n",
    "          'font.size' : 11,\n",
    "          'font.family' : 'lmodern',\n",
    "          'text.latex.unicode': True,\n",
    "          }\n",
    "\n",
    "plt.rcParams.update(params)\n",
    "fig, ax = plt.subplots()\n",
    "\n",
    "minor_locator = AutoMinorLocator(4)\n",
    "ax.yaxis.set_minor_locator(minor_locator)\n",
    "\n",
    "#ax.yaxis.set_ticks(np.arange(0, 1, 0.2))\n",
    "\n",
    "plt.plot(data[0],data[1],'ro', np.arange(-4, 5, 0.5), np.arange(-4, 5, 0.5)*s+i,'k--')\n",
    "\n",
    "plt.xlabel(xlabel)\n",
    "plt.ylabel(ylabel)\n",
    "\n",
    "\n",
    "\n",
    "label = r\"$k=(\" + \"{:.3f}\".format(s) + r\"\\pm\" + \"{:.3f}\".format(s_err) + \")$ \" + units\n",
    "ax.text(0.05, 0.9, label, transform=ax.transAxes, bbox={'facecolor':'white', 'edgecolor':'black', 'pad':10})\n",
    "\n",
    "ax.grid(color='g', linestyle='--', linewidth=0.6)\n",
    "ax.grid(color='g', linestyle='--', linewidth=0.1, which = 'minor' )\n",
    "\n",
    "res = plt.gcf()"
   ]
  },
  {
   "cell_type": "code",
   "execution_count": 21,
   "metadata": {},
   "outputs": [
    {
     "data": {
      "image/png": "[encoded data removed]",
      "text/plain": [
       "<matplotlib.figure.Figure at 0x1214a0828>"
      ]
     },
     "metadata": {},
     "output_type": "display_data"
    }
   ],
   "source": [
    "plt.show()"
   ]
  },
  {
   "cell_type": "code",
   "execution_count": 22,
   "metadata": {
    "collapsed": true
   },
   "outputs": [],
   "source": [
    "# Save file\n",
    "res.savefig(\"graph2.pdf\", \n",
    "            dpi=1000, \n",
    "            # Plot will be occupy a maximum of available space\n",
    "            bbox_inches='tight', \n",
    "            )"
   ]
  },
  {
   "cell_type": "code",
   "execution_count": null,
   "metadata": {
    "collapsed": true
   },
   "outputs": [],
   "source": []
  },
  {
   "cell_type": "code",
   "execution_count": null,
   "metadata": {
    "collapsed": true
   },
   "outputs": [],
   "source": []
  }
 ],
 "metadata": {
  "kernelspec": {
   "display_name": "Python 3",
   "language": "python",
   "name": "python3"
  },
  "language_info": {
   "codemirror_mode": {
    "name": "ipython",
    "version": 3
   },
   "file_extension": ".py",
   "mimetype": "text/x-python",
   "name": "python",
   "nbconvert_exporter": "python",
   "pygments_lexer": "ipython3",
   "version": "3.6.0"
  }
 },
 "nbformat": 4,
 "nbformat_minor": 2
}
